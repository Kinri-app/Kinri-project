{
 "cells": [
  {
   "cell_type": "markdown",
   "id": "c0819b92-c3a8-4d0d-8cfa-c24123ee071e",
   "metadata": {},
   "source": [
    "# "
   ]
  },
  {
   "cell_type": "code",
   "execution_count": 1,
   "id": "6ae27f9f-bea0-449a-9af1-95520b644891",
   "metadata": {},
   "outputs": [
    {
     "name": "stdout",
     "output_type": "stream",
     "text": [
      "Top-level keys: dict_keys(['user_id', 'stage_1_score', 'stage_2_score', 'stage_3_score', 'responses', 'insight_cards'])\n",
      "\n",
      "Scores:\n",
      "  Stage 1: 7\n",
      "  Stage 2: 9\n",
      "  Stage 3: 6\n",
      "\n",
      "Insight Cards: ['card_17', 'card_23', 'card_42']\n"
     ]
    },
    {
     "data": {
      "text/html": [
       "<div>\n",
       "<style scoped>\n",
       "    .dataframe tbody tr th:only-of-type {\n",
       "        vertical-align: middle;\n",
       "    }\n",
       "\n",
       "    .dataframe tbody tr th {\n",
       "        vertical-align: top;\n",
       "    }\n",
       "\n",
       "    .dataframe thead th {\n",
       "        text-align: right;\n",
       "    }\n",
       "</style>\n",
       "<table border=\"1\" class=\"dataframe\">\n",
       "  <thead>\n",
       "    <tr style=\"text-align: right;\">\n",
       "      <th></th>\n",
       "      <th>question_id</th>\n",
       "      <th>answer</th>\n",
       "    </tr>\n",
       "  </thead>\n",
       "  <tbody>\n",
       "    <tr>\n",
       "      <th>0</th>\n",
       "      <td>q1</td>\n",
       "      <td>Yes</td>\n",
       "    </tr>\n",
       "    <tr>\n",
       "      <th>1</th>\n",
       "      <td>q2</td>\n",
       "      <td>Sometimes</td>\n",
       "    </tr>\n",
       "    <tr>\n",
       "      <th>2</th>\n",
       "      <td>q3</td>\n",
       "      <td>No</td>\n",
       "    </tr>\n",
       "  </tbody>\n",
       "</table>\n",
       "</div>"
      ],
      "text/plain": [
       "  question_id     answer\n",
       "0          q1        Yes\n",
       "1          q2  Sometimes\n",
       "2          q3         No"
      ]
     },
     "execution_count": 1,
     "metadata": {},
     "output_type": "execute_result"
    }
   ],
   "source": [
    "import json\n",
    "import pandas as pd\n",
    "\n",
    "# Load the JSON file\n",
    "with open(\"sample_session.json\") as f:\n",
    "    data = json.load(f)\n",
    "\n",
    "# Check top-level keys\n",
    "print(\"Top-level keys:\", data.keys())\n",
    "\n",
    "# View the scores\n",
    "print(\"\\nScores:\")\n",
    "print(\"  Stage 1:\", data['stage_1_score'])\n",
    "print(\"  Stage 2:\", data['stage_2_score'])\n",
    "print(\"  Stage 3:\", data['stage_3_score'])\n",
    "\n",
    "# View insight cards\n",
    "print(\"\\nInsight Cards:\", data['insight_cards'])\n",
    "\n",
    "# Convert responses to DataFrame\n",
    "df_responses = pd.DataFrame(data['responses'])\n",
    "df_responses"
   ]
  }
 ],
 "metadata": {
  "kernelspec": {
   "display_name": "Python 3 (ipykernel)",
   "language": "python",
   "name": "python3"
  },
  "language_info": {
   "codemirror_mode": {
    "name": "ipython",
    "version": 3
   },
   "file_extension": ".py",
   "mimetype": "text/x-python",
   "name": "python",
   "nbconvert_exporter": "python",
   "pygments_lexer": "ipython3",
   "version": "3.12.7"
  }
 },
 "nbformat": 4,
 "nbformat_minor": 5
}
