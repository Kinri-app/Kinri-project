





import json
import pandas as pd





# load a vault JSON file
with open("Kinri FULL data/Final Vault Card Subset (Reflection Entries Only)/Vault_Batch1_5_VaultCards_Only.json") as f: # change filename to the correct one
    vault_data = json.load(f)


# count total cards in file
print("📦 Total insight cards loaded:", len(vault_data))


missing_fields = []


for idx, card in enumerate(vault_data):
    card_id = card.get("card_id")
    tags = card.get("tags")
    body = card.get("body") or card.get("content") # somtimes it's named 'content'

    if not card_id or not tags or not body:
        missing_fields.append({
            "card_index": idx,
            "card_id": card_id,
            "has_tags": bool(tags),
            "has_body": bool(body)
        })

# show any missing/incomplete cards
if missing_fields:
    print("\n❗ Cards with missing data:")
    df_issues = pd.DataFrame(missing_fields)
    dispaly(df_issues)
else:
    print("✅ All cards have card_id, tags, and body.")



