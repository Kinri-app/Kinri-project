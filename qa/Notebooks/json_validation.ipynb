{
 "cells": [
  {
   "cell_type": "markdown",
   "id": "50931a2f-b4df-48d8-b02b-4a7c63185f87",
   "metadata": {},
   "source": [
    "# JSON Validation"
   ]
  },
  {
   "cell_type": "markdown",
   "id": "c0819b92-c3a8-4d0d-8cfa-c24123ee071e",
   "metadata": {},
   "source": [
    "### libraries"
   ]
  },
  {
   "cell_type": "code",
   "execution_count": 1,
   "id": "9027ec6e-bdd4-4612-89ae-8039bf39b4af",
   "metadata": {},
   "outputs": [],
   "source": [
    "import json\n",
    "import pandas as pd"
   ]
  },
  {
   "cell_type": "markdown",
   "id": "c91d97eb-19d7-41df-b88f-97da890da567",
   "metadata": {},
   "source": [
    "## Load files"
   ]
  },
  {
   "cell_type": "code",
   "execution_count": 37,
   "id": "5cc511a1-b255-449e-bc4c-618256964d70",
   "metadata": {
    "scrolled": true
   },
   "outputs": [],
   "source": [
    "# load a vault JSON file\n",
    "with open(\"Kinri FULL data/Final Vault Card Subset (Reflection Entries Only)/Vault_Batch1_5_VaultCards_Only.json\") as f: # change filename to the correct one\n",
    "    vault_data = json.load(f)"
   ]
  },
  {
   "cell_type": "code",
   "execution_count": 38,
   "id": "ddb14cdf-03fa-4095-a4b6-9bad989b20b7",
   "metadata": {},
   "outputs": [
    {
     "name": "stdout",
     "output_type": "stream",
     "text": [
      "📦 Total insight cards loaded: 5\n"
     ]
    }
   ],
   "source": [
    "# count total cards in file\n",
    "print(\"📦 Total insight cards loaded:\", len(vault_data))"
   ]
  },
  {
   "cell_type": "code",
   "execution_count": 39,
   "id": "b3992dc0-7ddf-4408-aaa2-c06685c57503",
   "metadata": {},
   "outputs": [],
   "source": [
    "missing_fields = []"
   ]
  },
  {
   "cell_type": "code",
   "execution_count": 40,
   "id": "c5df36b0-6a8c-4a1d-8bbc-ef5d8f7a3ebe",
   "metadata": {},
   "outputs": [
    {
     "name": "stdout",
     "output_type": "stream",
     "text": [
      "✅ All cards have card_id, tags, and body.\n"
     ]
    }
   ],
   "source": [
    "for idx, card in enumerate(vault_data):\n",
    "    card_id = card.get(\"card_id\")\n",
    "    tags = card.get(\"tags\")\n",
    "    body = card.get(\"body\") or card.get(\"content\") # somtimes it's named 'content'\n",
    "\n",
    "    if not card_id or not tags or not body:\n",
    "        missing_fields.append({\n",
    "            \"card_index\": idx,\n",
    "            \"card_id\": card_id,\n",
    "            \"has_tags\": bool(tags),\n",
    "            \"has_body\": bool(body)\n",
    "        })\n",
    "\n",
    "# show any missing/incomplete cards\n",
    "if missing_fields:\n",
    "    print(\"\\n❗ Cards with missing data:\")\n",
    "    df_issues = pd.DataFrame(missing_fields)\n",
    "    dispaly(df_issues)\n",
    "else:\n",
    "    print(\"✅ All cards have card_id, tags, and body.\")"
   ]
  },
  {
   "cell_type": "code",
   "execution_count": null,
   "id": "58223f9c-b9e9-4b34-87b7-fed7d03d67d8",
   "metadata": {},
   "outputs": [],
   "source": []
  }
 ],
 "metadata": {
  "kernelspec": {
   "display_name": "Python 3 (ipykernel)",
   "language": "python",
   "name": "python3"
  },
  "language_info": {
   "codemirror_mode": {
    "name": "ipython",
    "version": 3
   },
   "file_extension": ".py",
   "mimetype": "text/x-python",
   "name": "python",
   "nbconvert_exporter": "python",
   "pygments_lexer": "ipython3",
   "version": "3.12.7"
  }
 },
 "nbformat": 4,
 "nbformat_minor": 5
}
